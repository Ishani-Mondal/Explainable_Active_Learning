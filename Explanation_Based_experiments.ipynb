{
 "cells": [
  {
   "cell_type": "code",
   "execution_count": 1,
   "metadata": {},
   "outputs": [],
   "source": [
    "import time\n",
    "import matplotlib.pyplot as plt\n",
    "import numpy as np\n",
    "from sklearn.datasets import fetch_openml\n",
    "from sklearn.linear_model import LogisticRegression\n",
    "from sklearn.model_selection import train_test_split\n",
    "from sklearn.preprocessing import StandardScaler\n",
    "from sklearn.utils import check_random_state\n",
    "import sklearn\n",
    "from sklearn.metrics import roc_auc_score\n",
    "import random\n",
    "random.seed(0)"
   ]
  },
  {
   "cell_type": "code",
   "execution_count": 2,
   "metadata": {},
   "outputs": [
    {
     "name": "stdout",
     "output_type": "stream",
     "text": [
      "==================\n",
      "60000\n",
      "10000\n",
      "==================\n"
     ]
    }
   ],
   "source": [
    "t0 = time.time()\n",
    "train_samples = 60000\n",
    "# Load data from https://www.openml.org/d/554\n",
    "X, y = fetch_openml('mnist_784', version=1, return_X_y=True)\n",
    "X = X.reshape((X.shape[0], -1))\n",
    "X_train, X_test, y_train, y_test = train_test_split(\n",
    "X, y, train_size=train_samples, test_size=10000)\n",
    "scaler = StandardScaler()\n",
    "X_train = scaler.fit_transform(X_train)\n",
    "X_test = scaler.transform(X_test)\n",
    "\n",
    "print(\"==================\")\n",
    "X_train=list(X_train)\n",
    "X_test=list(X_test)\n",
    "print(len(X_train))\n",
    "print(len(X_test))\n",
    "print(\"==================\")"
   ]
  },
  {
   "cell_type": "code",
   "execution_count": 3,
   "metadata": {},
   "outputs": [
    {
     "name": "stdout",
     "output_type": "stream",
     "text": [
      "Initial Training set size = 11945\n",
      "Initial Test set size = 2021\n"
     ]
    }
   ],
   "source": [
    "templist = []\n",
    "for tup in zip(X_train, y_train):\n",
    "    if(tup[1]=='8' or tup[1]=='3'):\n",
    "        templist.append(list(tup))\n",
    "    \n",
    "testList = []\n",
    "for tup in zip(X_test, y_test):\n",
    "    if(tup[1]=='8' or tup[1]=='3'):\n",
    "        testList.append(list(tup))\n",
    "    \n",
    "print(\"Initial Training set size = \"+str(len(templist)))\n",
    "print(\"Initial Test set size = \"+str(len(testList)))"
   ]
  },
  {
   "cell_type": "code",
   "execution_count": 4,
   "metadata": {},
   "outputs": [
    {
     "name": "stdout",
     "output_type": "stream",
     "text": [
      "Initial Seed set size = 5\n",
      "Unlabelled dataset size = 15\n"
     ]
    }
   ],
   "source": [
    "X_test=[]\n",
    "y_test=[]\n",
    "\n",
    "for tup in testList:\n",
    "\tX_test.append(tup[0])\n",
    "\ty_test.append(tup[1])\n",
    "\n",
    "\n",
    "random.shuffle(templist)\n",
    "\n",
    "#seed_size=int(0.1*len(templist))\n",
    "seed_size=5\n",
    "\n",
    "seed_list=templist[0:seed_size]\n",
    "print(\"Initial Seed set size = \"+str(len(seed_list)))\n",
    " \n",
    "unlabelled_list=templist[seed_size:20]\n",
    "print(\"Unlabelled dataset size = \"+str(len(unlabelled_list)))"
   ]
  },
  {
   "cell_type": "code",
   "execution_count": 5,
   "metadata": {},
   "outputs": [],
   "source": [
    "import numpy as np\n",
    "import lime\n",
    "import lime.lime_tabular\n",
    "\n",
    "\n",
    "def explanation_generation_based_and_train_test(seed_set, unlabelled_list, batch_size):\n",
    "    print(\"Before Sampling Unlabelled Data Size: \"+str(len(unlabelled_list)))\n",
    "    print(\"Before Sampling Seed Data Size: \"+str(len(seed_set)))\n",
    "    \n",
    "    feature_names=[]\n",
    "\n",
    "    for i in range(784):\n",
    "        feature='feature_'+str(i)\n",
    "        feature_names.append(feature)\n",
    "    \n",
    "\n",
    "    class_names=[]\n",
    "    classes=['3','8']\n",
    "\n",
    "    for i in classes:\n",
    "        class_1='class_'+str(i)\n",
    "        class_names.append(class_1)\n",
    "        \n",
    "    clf = LogisticRegression(C=50. / train_samples, penalty='l1', solver='saga', tol=0.1)\n",
    "    \n",
    "    seed_X=[]\n",
    "    seed_y=[]\n",
    "\n",
    "    for tup in seed_list:\n",
    "        seed_X.append(list(tup[0]))\n",
    "        seed_y.append(list(tup[1]))\n",
    "        \n",
    "    test_X=[]\n",
    "    test_y=[]\n",
    "\n",
    "    for tup in testList:\n",
    "        test_X.append(list(tup[0]))\n",
    "        test_y.append(list(tup[1]))\n",
    "    \n",
    "    clf.fit(seed_X, seed_y)\n",
    "    print(\"Accuracy on the Test Set is : \"+str(sklearn.metrics.accuracy_score(test_y, clf.predict(test_X))))\n",
    "    explainer = lime.lime_tabular.LimeTabularExplainer(np.array(seed_X), feature_names=feature_names, class_names=class_names, discretize_continuous=False)\n",
    "    \n",
    "    total_np_array=[]\n",
    "    num_features=50\n",
    "    for item in seed_list:\n",
    "        #print(item)\n",
    "        exp = explainer.explain_instance(item[0], clf.predict_proba, num_features=num_features)\n",
    "        vectors = np.empty([1, num_features])\n",
    "        for elem in list(exp.as_list()):\n",
    "            np.append(vectors, elem[1], axis=None)\n",
    "        total_np_array.append(vectors[0])\n",
    "        \n",
    "    \n",
    "    seed_mean = np.mean(np.array(total_np_array), axis=0)\n",
    "    \n",
    "    ulabelled_X=[]\n",
    "    ulabelled_y=[]\n",
    "\n",
    "    for tup in unlabelled_list:\n",
    "        ulabelled_X.append(list(tup[0]))\n",
    "        ulabelled_y.append(list(tup[1]))\n",
    "        \n",
    "    explainer = lime.lime_tabular.LimeTabularExplainer(np.array(ulabelled_X), feature_names=feature_names, class_names=class_names, discretize_continuous=False)\n",
    "    \n",
    "    sums=[]\n",
    "    for item in unlabelled_list:\n",
    "        exp = explainer.explain_instance(item[0], clf.predict_proba, num_features=num_features)\n",
    "        vectors = np.empty([1, num_features])\n",
    "        for elem in list(exp.as_list()):\n",
    "            np.append(vectors, elem[1], axis=None)\n",
    "        np_vector=vectors[0]\n",
    "        sums.append(np.sum(np.subtract(seed_mean, np_vector)))\n",
    "        \n",
    "    \n",
    "    \n",
    "    print(\"Max= \"+str(max(sums)))\n",
    "    print(\"Index= \"+str(sums.index(max(sums))))\n",
    "    \n",
    "    print(\"Unlabelled List Before: \"+str(len(unlabelled_list)))\n",
    "    index = sums.index(max(sums))\n",
    "    \n",
    "    \n",
    "    print(\"Seed List Before: \"+str(len(seed_list)))\n",
    "    seed_list.append(unlabelled_list[index])\n",
    "    print(\"Seed List After: \"+str(len(seed_list)))\n",
    "    \n",
    "    del unlabelled_list[index]\n",
    "    print(\"Unlabelled List After: \"+str(len(unlabelled_list)))"
   ]
  },
  {
   "cell_type": "code",
   "execution_count": 6,
   "metadata": {},
   "outputs": [
    {
     "name": "stdout",
     "output_type": "stream",
     "text": [
      "Before Sampling Unlabelled Data Size: 15\n",
      "Before Sampling Seed Data Size: 5\n",
      "Accuracy on the Test Set is : 0.4943097476496784\n"
     ]
    },
    {
     "name": "stderr",
     "output_type": "stream",
     "text": [
      "/home/ishani/anaconda3/envs/fair/lib/python3.7/site-packages/sklearn/utils/validation.py:760: DataConversionWarning: A column-vector y was passed when a 1d array was expected. Please change the shape of y to (n_samples, ), for example using ravel().\n",
      "  y = column_or_1d(y, warn=True)\n"
     ]
    },
    {
     "name": "stdout",
     "output_type": "stream",
     "text": [
      "Max= 2.4526636718292826e-32\n",
      "Index= 0\n",
      "Unlabelled List Before: 15\n",
      "Seed List Before: 5\n",
      "Seed List After: 6\n",
      "Unlabelled List After: 14\n",
      "Before Sampling Unlabelled Data Size: 14\n",
      "Before Sampling Seed Data Size: 6\n",
      "Accuracy on the Test Set is : 0.5056902523503216\n"
     ]
    },
    {
     "name": "stderr",
     "output_type": "stream",
     "text": [
      "/home/ishani/anaconda3/envs/fair/lib/python3.7/site-packages/sklearn/utils/validation.py:760: DataConversionWarning: A column-vector y was passed when a 1d array was expected. Please change the shape of y to (n_samples, ), for example using ravel().\n",
      "  y = column_or_1d(y, warn=True)\n"
     ]
    },
    {
     "name": "stdout",
     "output_type": "stream",
     "text": [
      "Max= 3.4636542057891814e-32\n",
      "Index= 1\n",
      "Unlabelled List Before: 14\n",
      "Seed List Before: 6\n",
      "Seed List After: 7\n",
      "Unlabelled List After: 13\n",
      "Before Sampling Unlabelled Data Size: 13\n",
      "Before Sampling Seed Data Size: 7\n",
      "Accuracy on the Test Set is : 0.4943097476496784\n"
     ]
    },
    {
     "name": "stderr",
     "output_type": "stream",
     "text": [
      "/home/ishani/anaconda3/envs/fair/lib/python3.7/site-packages/sklearn/utils/validation.py:760: DataConversionWarning: A column-vector y was passed when a 1d array was expected. Please change the shape of y to (n_samples, ), for example using ravel().\n",
      "  y = column_or_1d(y, warn=True)\n"
     ]
    },
    {
     "name": "stdout",
     "output_type": "stream",
     "text": [
      "Max= 4.5554517670822373e-32\n",
      "Index= 2\n",
      "Unlabelled List Before: 13\n",
      "Seed List Before: 7\n",
      "Seed List After: 8\n",
      "Unlabelled List After: 12\n",
      "Before Sampling Unlabelled Data Size: 12\n",
      "Before Sampling Seed Data Size: 8\n",
      "Accuracy on the Test Set is : 0.5056902523503216\n"
     ]
    },
    {
     "name": "stderr",
     "output_type": "stream",
     "text": [
      "/home/ishani/anaconda3/envs/fair/lib/python3.7/site-packages/sklearn/utils/validation.py:760: DataConversionWarning: A column-vector y was passed when a 1d array was expected. Please change the shape of y to (n_samples, ), for example using ravel().\n",
      "  y = column_or_1d(y, warn=True)\n"
     ]
    },
    {
     "name": "stdout",
     "output_type": "stream",
     "text": [
      "Max= 2.2753957957327166e-32\n",
      "Index= 8\n",
      "Unlabelled List Before: 12\n",
      "Seed List Before: 8\n",
      "Seed List After: 9\n",
      "Unlabelled List After: 11\n",
      "Before Sampling Unlabelled Data Size: 11\n",
      "Before Sampling Seed Data Size: 9\n"
     ]
    },
    {
     "name": "stderr",
     "output_type": "stream",
     "text": [
      "/home/ishani/anaconda3/envs/fair/lib/python3.7/site-packages/sklearn/utils/validation.py:760: DataConversionWarning: A column-vector y was passed when a 1d array was expected. Please change the shape of y to (n_samples, ), for example using ravel().\n",
      "  y = column_or_1d(y, warn=True)\n"
     ]
    },
    {
     "name": "stdout",
     "output_type": "stream",
     "text": [
      "Accuracy on the Test Set is : 0.5056902523503216\n",
      "Max= 5.1484755006373725e-33\n",
      "Index= 1\n",
      "Unlabelled List Before: 11\n",
      "Seed List Before: 9\n",
      "Seed List After: 10\n",
      "Unlabelled List After: 10\n",
      "Before Sampling Unlabelled Data Size: 10\n",
      "Before Sampling Seed Data Size: 10\n",
      "Accuracy on the Test Set is : 0.4943097476496784\n"
     ]
    },
    {
     "name": "stderr",
     "output_type": "stream",
     "text": [
      "/home/ishani/anaconda3/envs/fair/lib/python3.7/site-packages/sklearn/utils/validation.py:760: DataConversionWarning: A column-vector y was passed when a 1d array was expected. Please change the shape of y to (n_samples, ), for example using ravel().\n",
      "  y = column_or_1d(y, warn=True)\n"
     ]
    },
    {
     "name": "stdout",
     "output_type": "stream",
     "text": [
      "Max= 3.510383856602637e-32\n",
      "Index= 9\n",
      "Unlabelled List Before: 10\n",
      "Seed List Before: 10\n",
      "Seed List After: 11\n",
      "Unlabelled List After: 9\n",
      "Before Sampling Unlabelled Data Size: 9\n",
      "Before Sampling Seed Data Size: 11\n"
     ]
    },
    {
     "name": "stderr",
     "output_type": "stream",
     "text": [
      "/home/ishani/anaconda3/envs/fair/lib/python3.7/site-packages/sklearn/utils/validation.py:760: DataConversionWarning: A column-vector y was passed when a 1d array was expected. Please change the shape of y to (n_samples, ), for example using ravel().\n",
      "  y = column_or_1d(y, warn=True)\n"
     ]
    },
    {
     "name": "stdout",
     "output_type": "stream",
     "text": [
      "Accuracy on the Test Set is : 0.4943097476496784\n",
      "Max= 1.6075413807796212e-32\n",
      "Index= 5\n",
      "Unlabelled List Before: 9\n",
      "Seed List Before: 11\n",
      "Seed List After: 12\n",
      "Unlabelled List After: 8\n",
      "Before Sampling Unlabelled Data Size: 8\n",
      "Before Sampling Seed Data Size: 12\n"
     ]
    },
    {
     "name": "stderr",
     "output_type": "stream",
     "text": [
      "/home/ishani/anaconda3/envs/fair/lib/python3.7/site-packages/sklearn/utils/validation.py:760: DataConversionWarning: A column-vector y was passed when a 1d array was expected. Please change the shape of y to (n_samples, ), for example using ravel().\n",
      "  y = column_or_1d(y, warn=True)\n"
     ]
    },
    {
     "name": "stdout",
     "output_type": "stream",
     "text": [
      "Accuracy on the Test Set is : 0.4943097476496784\n",
      "Max= 3.039689181901504e-32\n",
      "Index= 6\n",
      "Unlabelled List Before: 8\n",
      "Seed List Before: 12\n",
      "Seed List After: 13\n",
      "Unlabelled List After: 7\n",
      "Before Sampling Unlabelled Data Size: 7\n",
      "Before Sampling Seed Data Size: 13\n"
     ]
    },
    {
     "name": "stderr",
     "output_type": "stream",
     "text": [
      "/home/ishani/anaconda3/envs/fair/lib/python3.7/site-packages/sklearn/utils/validation.py:760: DataConversionWarning: A column-vector y was passed when a 1d array was expected. Please change the shape of y to (n_samples, ), for example using ravel().\n",
      "  y = column_or_1d(y, warn=True)\n"
     ]
    },
    {
     "name": "stdout",
     "output_type": "stream",
     "text": [
      "Accuracy on the Test Set is : 0.4943097476496784\n",
      "Max= 6.7841152582557064e-34\n",
      "Index= 0\n",
      "Unlabelled List Before: 7\n",
      "Seed List Before: 13\n",
      "Seed List After: 14\n",
      "Unlabelled List After: 6\n",
      "Before Sampling Unlabelled Data Size: 6\n",
      "Before Sampling Seed Data Size: 14\n",
      "Accuracy on the Test Set is : 0.4943097476496784\n"
     ]
    },
    {
     "name": "stderr",
     "output_type": "stream",
     "text": [
      "/home/ishani/anaconda3/envs/fair/lib/python3.7/site-packages/sklearn/utils/validation.py:760: DataConversionWarning: A column-vector y was passed when a 1d array was expected. Please change the shape of y to (n_samples, ), for example using ravel().\n",
      "  y = column_or_1d(y, warn=True)\n"
     ]
    },
    {
     "name": "stdout",
     "output_type": "stream",
     "text": [
      "Max= 2.9018347643937e-32\n",
      "Index= 1\n",
      "Unlabelled List Before: 6\n",
      "Seed List Before: 14\n",
      "Seed List After: 15\n",
      "Unlabelled List After: 5\n",
      "Before Sampling Unlabelled Data Size: 5\n",
      "Before Sampling Seed Data Size: 15\n"
     ]
    },
    {
     "name": "stderr",
     "output_type": "stream",
     "text": [
      "/home/ishani/anaconda3/envs/fair/lib/python3.7/site-packages/sklearn/utils/validation.py:760: DataConversionWarning: A column-vector y was passed when a 1d array was expected. Please change the shape of y to (n_samples, ), for example using ravel().\n",
      "  y = column_or_1d(y, warn=True)\n"
     ]
    },
    {
     "name": "stdout",
     "output_type": "stream",
     "text": [
      "Accuracy on the Test Set is : 0.4943097476496784\n",
      "Max= 8.644841074838079e-34\n",
      "Index= 0\n",
      "Unlabelled List Before: 5\n",
      "Seed List Before: 15\n",
      "Seed List After: 16\n",
      "Unlabelled List After: 4\n",
      "Before Sampling Unlabelled Data Size: 4\n",
      "Before Sampling Seed Data Size: 16\n",
      "Accuracy on the Test Set is : 0.4943097476496784\n"
     ]
    },
    {
     "name": "stderr",
     "output_type": "stream",
     "text": [
      "/home/ishani/anaconda3/envs/fair/lib/python3.7/site-packages/sklearn/utils/validation.py:760: DataConversionWarning: A column-vector y was passed when a 1d array was expected. Please change the shape of y to (n_samples, ), for example using ravel().\n",
      "  y = column_or_1d(y, warn=True)\n"
     ]
    },
    {
     "name": "stdout",
     "output_type": "stream",
     "text": [
      "Max= -2.808818722197449e-34\n",
      "Index= 0\n",
      "Unlabelled List Before: 4\n",
      "Seed List Before: 16\n",
      "Seed List After: 17\n",
      "Unlabelled List After: 3\n",
      "Before Sampling Unlabelled Data Size: 3\n",
      "Before Sampling Seed Data Size: 17\n"
     ]
    },
    {
     "name": "stderr",
     "output_type": "stream",
     "text": [
      "/home/ishani/anaconda3/envs/fair/lib/python3.7/site-packages/sklearn/utils/validation.py:760: DataConversionWarning: A column-vector y was passed when a 1d array was expected. Please change the shape of y to (n_samples, ), for example using ravel().\n",
      "  y = column_or_1d(y, warn=True)\n"
     ]
    },
    {
     "name": "stdout",
     "output_type": "stream",
     "text": [
      "Accuracy on the Test Set is : 0.4943097476496784\n",
      "Max= 1.779083379814898e-33\n",
      "Index= 2\n",
      "Unlabelled List Before: 3\n",
      "Seed List Before: 17\n",
      "Seed List After: 18\n",
      "Unlabelled List After: 2\n",
      "Before Sampling Unlabelled Data Size: 2\n",
      "Before Sampling Seed Data Size: 18\n",
      "Accuracy on the Test Set is : 0.4943097476496784\n"
     ]
    },
    {
     "name": "stderr",
     "output_type": "stream",
     "text": [
      "/home/ishani/anaconda3/envs/fair/lib/python3.7/site-packages/sklearn/utils/validation.py:760: DataConversionWarning: A column-vector y was passed when a 1d array was expected. Please change the shape of y to (n_samples, ), for example using ravel().\n",
      "  y = column_or_1d(y, warn=True)\n"
     ]
    },
    {
     "name": "stdout",
     "output_type": "stream",
     "text": [
      "Max= 2.8820809821811342e-33\n",
      "Index= 0\n",
      "Unlabelled List Before: 2\n",
      "Seed List Before: 18\n",
      "Seed List After: 19\n",
      "Unlabelled List After: 1\n",
      "Before Sampling Unlabelled Data Size: 1\n",
      "Before Sampling Seed Data Size: 19\n"
     ]
    },
    {
     "name": "stderr",
     "output_type": "stream",
     "text": [
      "/home/ishani/anaconda3/envs/fair/lib/python3.7/site-packages/sklearn/utils/validation.py:760: DataConversionWarning: A column-vector y was passed when a 1d array was expected. Please change the shape of y to (n_samples, ), for example using ravel().\n",
      "  y = column_or_1d(y, warn=True)\n"
     ]
    },
    {
     "name": "stdout",
     "output_type": "stream",
     "text": [
      "Accuracy on the Test Set is : 0.4943097476496784\n",
      "Max= -1.678443836466671e-33\n",
      "Index= 0\n",
      "Unlabelled List Before: 1\n",
      "Seed List Before: 19\n",
      "Seed List After: 20\n",
      "Unlabelled List After: 0\n"
     ]
    }
   ],
   "source": [
    "for i in range(len(unlabelled_list)):\n",
    "    explanation_generation_based_and_train_test(seed_list, unlabelled_list, 1)"
   ]
  },
  {
   "cell_type": "code",
   "execution_count": 7,
   "metadata": {},
   "outputs": [
    {
     "name": "stdout",
     "output_type": "stream",
     "text": [
      "Initial Seed set size = 5\n",
      "Unlabelled dataset size = 15\n"
     ]
    }
   ],
   "source": [
    "seed_list=templist[0:seed_size]\n",
    "print(\"Initial Seed set size = \"+str(len(seed_list)))\n",
    " \n",
    "unlabelled_list=templist[seed_size:20]\n",
    "print(\"Unlabelled dataset size = \"+str(len(unlabelled_list)))"
   ]
  },
  {
   "cell_type": "code",
   "execution_count": 8,
   "metadata": {},
   "outputs": [],
   "source": [
    "def uncertainity_based_and_train_test(seed_set, unlabelled_list, batch_size):\n",
    "    print(\"Before Sampling Unlabelled Data Size: \"+str(len(unlabelled_list)))\n",
    "    print(\"Before Sampling Seed Data Size: \"+str(len(seed_set)))\n",
    "    \n",
    "    seed_X=[]\n",
    "    seed_y=[]\n",
    "\n",
    "    for tup in seed_list:\n",
    "        seed_X.append(list(tup[0]))\n",
    "        seed_y.append(list(tup[1]))\n",
    "    \n",
    "    ulabelled_X=[]\n",
    "    ulabelled_y=[]\n",
    "    \n",
    "    for tup in unlabelled_list:\n",
    "        ulabelled_X.append(list(tup[0]))\n",
    "        ulabelled_y.append(list(tup[1]))\n",
    "        \n",
    "    clf = LogisticRegression(C=50. / train_samples, penalty='l1', solver='saga', tol=0.1)\n",
    "    clf.fit(seed_X, seed_y)\n",
    "    \n",
    "    test_X=[]\n",
    "    test_y=[]\n",
    "\n",
    "    for tup in testList:\n",
    "        test_X.append(list(tup[0]))\n",
    "        test_y.append(list(tup[1]))\n",
    "    \n",
    "    print(\"Accuracy on the Test Set is : \"+str(sklearn.metrics.accuracy_score(test_y, clf.predict(test_X))))\n",
    "    predictions_label_wise=np.array(clf.predict_proba(ulabelled_X))\n",
    "    uncertainity_list = list(1-predictions_label_wise.max(axis=1))\n",
    "    max_index = uncertainity_list.index(max(uncertainity_list))\n",
    "    print(\"Initial seed size\"+str(len(seed_list)))\n",
    "    print(\"Initial unlabelled_list size\"+str(len(unlabelled_list)))\n",
    "    seed_list.append(unlabelled_list[max_index])\n",
    "    del unlabelled_list[max_index]\n",
    "    print(\"Final unlabelled_list size\"+str(len(unlabelled_list)))\n",
    "    print(\"Final seed size\"+str(len(seed_list)))\n",
    "    #print(max_index)"
   ]
  },
  {
   "cell_type": "code",
   "execution_count": 9,
   "metadata": {},
   "outputs": [
    {
     "name": "stdout",
     "output_type": "stream",
     "text": [
      "Before Sampling Unlabelled Data Size: 15\n",
      "Before Sampling Seed Data Size: 5\n",
      "Accuracy on the Test Set is : 0.4943097476496784\n",
      "Initial seed size5\n",
      "Initial unlabelled_list size15\n",
      "Final unlabelled_list size14\n",
      "Final seed size6\n",
      "0\n"
     ]
    },
    {
     "name": "stderr",
     "output_type": "stream",
     "text": [
      "/home/ishani/anaconda3/envs/fair/lib/python3.7/site-packages/sklearn/utils/validation.py:760: DataConversionWarning: A column-vector y was passed when a 1d array was expected. Please change the shape of y to (n_samples, ), for example using ravel().\n",
      "  y = column_or_1d(y, warn=True)\n"
     ]
    },
    {
     "name": "stdout",
     "output_type": "stream",
     "text": [
      "Before Sampling Unlabelled Data Size: 14\n",
      "Before Sampling Seed Data Size: 6\n",
      "Accuracy on the Test Set is : 0.4943097476496784\n",
      "Initial seed size6\n",
      "Initial unlabelled_list size14\n",
      "Final unlabelled_list size13\n",
      "Final seed size7\n",
      "0\n"
     ]
    },
    {
     "name": "stderr",
     "output_type": "stream",
     "text": [
      "/home/ishani/anaconda3/envs/fair/lib/python3.7/site-packages/sklearn/utils/validation.py:760: DataConversionWarning: A column-vector y was passed when a 1d array was expected. Please change the shape of y to (n_samples, ), for example using ravel().\n",
      "  y = column_or_1d(y, warn=True)\n"
     ]
    },
    {
     "name": "stdout",
     "output_type": "stream",
     "text": [
      "Before Sampling Unlabelled Data Size: 13\n",
      "Before Sampling Seed Data Size: 7\n",
      "Accuracy on the Test Set is : 0.4943097476496784\n",
      "Initial seed size7\n",
      "Initial unlabelled_list size13\n",
      "Final unlabelled_list size12\n",
      "Final seed size8\n",
      "0\n"
     ]
    },
    {
     "name": "stderr",
     "output_type": "stream",
     "text": [
      "/home/ishani/anaconda3/envs/fair/lib/python3.7/site-packages/sklearn/utils/validation.py:760: DataConversionWarning: A column-vector y was passed when a 1d array was expected. Please change the shape of y to (n_samples, ), for example using ravel().\n",
      "  y = column_or_1d(y, warn=True)\n"
     ]
    },
    {
     "name": "stdout",
     "output_type": "stream",
     "text": [
      "Before Sampling Unlabelled Data Size: 12\n",
      "Before Sampling Seed Data Size: 8\n",
      "Accuracy on the Test Set is : 0.4943097476496784\n",
      "Initial seed size8\n",
      "Initial unlabelled_list size12\n",
      "Final unlabelled_list size11\n",
      "Final seed size9\n",
      "0\n",
      "Before Sampling Unlabelled Data Size: 11\n",
      "Before Sampling Seed Data Size: 9\n",
      "Accuracy on the Test Set is : 0.4943097476496784\n",
      "Initial seed size9\n",
      "Initial unlabelled_list size11\n",
      "Final unlabelled_list size10\n",
      "Final seed size10\n",
      "0\n"
     ]
    },
    {
     "name": "stderr",
     "output_type": "stream",
     "text": [
      "/home/ishani/anaconda3/envs/fair/lib/python3.7/site-packages/sklearn/utils/validation.py:760: DataConversionWarning: A column-vector y was passed when a 1d array was expected. Please change the shape of y to (n_samples, ), for example using ravel().\n",
      "  y = column_or_1d(y, warn=True)\n",
      "/home/ishani/anaconda3/envs/fair/lib/python3.7/site-packages/sklearn/utils/validation.py:760: DataConversionWarning: A column-vector y was passed when a 1d array was expected. Please change the shape of y to (n_samples, ), for example using ravel().\n",
      "  y = column_or_1d(y, warn=True)\n"
     ]
    },
    {
     "name": "stdout",
     "output_type": "stream",
     "text": [
      "Before Sampling Unlabelled Data Size: 10\n",
      "Before Sampling Seed Data Size: 10\n",
      "Accuracy on the Test Set is : 0.4943097476496784\n",
      "Initial seed size10\n",
      "Initial unlabelled_list size10\n",
      "Final unlabelled_list size9\n",
      "Final seed size11\n",
      "0\n",
      "Before Sampling Unlabelled Data Size: 9\n",
      "Before Sampling Seed Data Size: 11\n",
      "Accuracy on the Test Set is : 0.4943097476496784\n",
      "Initial seed size11\n",
      "Initial unlabelled_list size9\n",
      "Final unlabelled_list size8\n",
      "Final seed size12\n",
      "0\n"
     ]
    },
    {
     "name": "stderr",
     "output_type": "stream",
     "text": [
      "/home/ishani/anaconda3/envs/fair/lib/python3.7/site-packages/sklearn/utils/validation.py:760: DataConversionWarning: A column-vector y was passed when a 1d array was expected. Please change the shape of y to (n_samples, ), for example using ravel().\n",
      "  y = column_or_1d(y, warn=True)\n",
      "/home/ishani/anaconda3/envs/fair/lib/python3.7/site-packages/sklearn/utils/validation.py:760: DataConversionWarning: A column-vector y was passed when a 1d array was expected. Please change the shape of y to (n_samples, ), for example using ravel().\n",
      "  y = column_or_1d(y, warn=True)\n"
     ]
    },
    {
     "name": "stdout",
     "output_type": "stream",
     "text": [
      "Before Sampling Unlabelled Data Size: 8\n",
      "Before Sampling Seed Data Size: 12\n",
      "Accuracy on the Test Set is : 0.4943097476496784\n",
      "Initial seed size12\n",
      "Initial unlabelled_list size8\n",
      "Final unlabelled_list size7\n",
      "Final seed size13\n",
      "0\n",
      "Before Sampling Unlabelled Data Size: 7"
     ]
    },
    {
     "name": "stderr",
     "output_type": "stream",
     "text": [
      "/home/ishani/anaconda3/envs/fair/lib/python3.7/site-packages/sklearn/utils/validation.py:760: DataConversionWarning: A column-vector y was passed when a 1d array was expected. Please change the shape of y to (n_samples, ), for example using ravel().\n",
      "  y = column_or_1d(y, warn=True)\n"
     ]
    },
    {
     "name": "stdout",
     "output_type": "stream",
     "text": [
      "\n",
      "Before Sampling Seed Data Size: 13\n",
      "Accuracy on the Test Set is : 0.4943097476496784\n",
      "Initial seed size13\n",
      "Initial unlabelled_list size7\n",
      "Final unlabelled_list size6\n",
      "Final seed size14\n",
      "0\n",
      "Before Sampling Unlabelled Data Size: 6\n",
      "Before Sampling Seed Data Size: 14\n",
      "Accuracy on the Test Set is : 0.4943097476496784\n",
      "Initial seed size14\n",
      "Initial unlabelled_list size6\n",
      "Final unlabelled_list size5\n",
      "Final seed size15\n",
      "0\n",
      "Before Sampling Unlabelled Data Size: 5"
     ]
    },
    {
     "name": "stderr",
     "output_type": "stream",
     "text": [
      "/home/ishani/anaconda3/envs/fair/lib/python3.7/site-packages/sklearn/utils/validation.py:760: DataConversionWarning: A column-vector y was passed when a 1d array was expected. Please change the shape of y to (n_samples, ), for example using ravel().\n",
      "  y = column_or_1d(y, warn=True)\n",
      "/home/ishani/anaconda3/envs/fair/lib/python3.7/site-packages/sklearn/utils/validation.py:760: DataConversionWarning: A column-vector y was passed when a 1d array was expected. Please change the shape of y to (n_samples, ), for example using ravel().\n",
      "  y = column_or_1d(y, warn=True)\n"
     ]
    },
    {
     "name": "stdout",
     "output_type": "stream",
     "text": [
      "\n",
      "Before Sampling Seed Data Size: 15\n",
      "Accuracy on the Test Set is : 0.4943097476496784\n",
      "Initial seed size15\n",
      "Initial unlabelled_list size5\n",
      "Final unlabelled_list size4\n",
      "Final seed size16\n",
      "0\n",
      "Before Sampling Unlabelled Data Size: 4\n",
      "Before Sampling Seed Data Size: 16\n",
      "Accuracy on the Test Set is : 0.4943097476496784\n",
      "Initial seed size16\n",
      "Initial unlabelled_list size4\n",
      "Final unlabelled_list size3\n",
      "Final seed size17\n",
      "0\n"
     ]
    },
    {
     "name": "stderr",
     "output_type": "stream",
     "text": [
      "/home/ishani/anaconda3/envs/fair/lib/python3.7/site-packages/sklearn/utils/validation.py:760: DataConversionWarning: A column-vector y was passed when a 1d array was expected. Please change the shape of y to (n_samples, ), for example using ravel().\n",
      "  y = column_or_1d(y, warn=True)\n",
      "/home/ishani/anaconda3/envs/fair/lib/python3.7/site-packages/sklearn/utils/validation.py:760: DataConversionWarning: A column-vector y was passed when a 1d array was expected. Please change the shape of y to (n_samples, ), for example using ravel().\n",
      "  y = column_or_1d(y, warn=True)\n"
     ]
    },
    {
     "name": "stdout",
     "output_type": "stream",
     "text": [
      "Before Sampling Unlabelled Data Size: 3\n",
      "Before Sampling Seed Data Size: 17\n",
      "Accuracy on the Test Set is : 0.4943097476496784\n",
      "Initial seed size17\n",
      "Initial unlabelled_list size3\n",
      "Final unlabelled_list size2\n",
      "Final seed size18\n",
      "0\n"
     ]
    },
    {
     "name": "stderr",
     "output_type": "stream",
     "text": [
      "/home/ishani/anaconda3/envs/fair/lib/python3.7/site-packages/sklearn/utils/validation.py:760: DataConversionWarning: A column-vector y was passed when a 1d array was expected. Please change the shape of y to (n_samples, ), for example using ravel().\n",
      "  y = column_or_1d(y, warn=True)\n"
     ]
    },
    {
     "name": "stdout",
     "output_type": "stream",
     "text": [
      "Before Sampling Unlabelled Data Size: 2\n",
      "Before Sampling Seed Data Size: 18\n",
      "Accuracy on the Test Set is : 0.4943097476496784\n",
      "Initial seed size18\n",
      "Initial unlabelled_list size2\n",
      "Final unlabelled_list size1\n",
      "Final seed size19\n",
      "0\n",
      "Before Sampling Unlabelled Data Size: 1\n",
      "Before Sampling Seed Data Size: 19\n",
      "Accuracy on the Test Set is : 0.4943097476496784\n",
      "Initial seed size19\n",
      "Initial unlabelled_list size1\n",
      "Final unlabelled_list size0\n",
      "Final seed size20\n",
      "0\n"
     ]
    },
    {
     "name": "stderr",
     "output_type": "stream",
     "text": [
      "/home/ishani/anaconda3/envs/fair/lib/python3.7/site-packages/sklearn/utils/validation.py:760: DataConversionWarning: A column-vector y was passed when a 1d array was expected. Please change the shape of y to (n_samples, ), for example using ravel().\n",
      "  y = column_or_1d(y, warn=True)\n",
      "/home/ishani/anaconda3/envs/fair/lib/python3.7/site-packages/sklearn/utils/validation.py:760: DataConversionWarning: A column-vector y was passed when a 1d array was expected. Please change the shape of y to (n_samples, ), for example using ravel().\n",
      "  y = column_or_1d(y, warn=True)\n"
     ]
    }
   ],
   "source": [
    "for i in range(len(unlabelled_list)):\n",
    "    uncertainity_based_and_train_test(seed_list, unlabelled_list, 1)"
   ]
  },
  {
   "cell_type": "code",
   "execution_count": null,
   "metadata": {},
   "outputs": [],
   "source": []
  }
 ],
 "metadata": {
  "kernelspec": {
   "display_name": "Python 3",
   "language": "python",
   "name": "python3"
  },
  "language_info": {
   "codemirror_mode": {
    "name": "ipython",
    "version": 3
   },
   "file_extension": ".py",
   "mimetype": "text/x-python",
   "name": "python",
   "nbconvert_exporter": "python",
   "pygments_lexer": "ipython3",
   "version": "3.7.6"
  }
 },
 "nbformat": 4,
 "nbformat_minor": 4
}

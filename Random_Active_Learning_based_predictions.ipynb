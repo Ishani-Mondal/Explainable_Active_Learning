{
 "cells": [
  {
   "cell_type": "code",
   "execution_count": 1,
   "metadata": {},
   "outputs": [],
   "source": [
    "import time\n",
    "import matplotlib.pyplot as plt\n",
    "import numpy as np\n",
    "from sklearn.datasets import fetch_openml\n",
    "from sklearn.linear_model import LogisticRegression\n",
    "from sklearn.model_selection import train_test_split\n",
    "from sklearn.preprocessing import StandardScaler\n",
    "from sklearn.utils import check_random_state\n",
    "import sklearn\n",
    "from sklearn.metrics import roc_auc_score\n",
    "import random\n",
    "random.seed(0)"
   ]
  },
  {
   "cell_type": "code",
   "execution_count": 2,
   "metadata": {},
   "outputs": [
    {
     "name": "stdout",
     "output_type": "stream",
     "text": [
      "==================\n",
      "60000\n",
      "10000\n",
      "==================\n"
     ]
    }
   ],
   "source": [
    "t0 = time.time()\n",
    "train_samples = 60000\n",
    "# Load data from https://www.openml.org/d/554\n",
    "X, y = fetch_openml('mnist_784', version=1, return_X_y=True)\n",
    "X = X.reshape((X.shape[0], -1))\n",
    "X_train, X_test, y_train, y_test = train_test_split(\n",
    "X, y, train_size=train_samples, test_size=10000)\n",
    "scaler = StandardScaler()\n",
    "X_train = scaler.fit_transform(X_train)\n",
    "X_test = scaler.transform(X_test)\n",
    "\n",
    "print(\"==================\")\n",
    "X_train=list(X_train)\n",
    "X_test=list(X_test)\n",
    "print(len(X_train))\n",
    "print(len(X_test))\n",
    "print(\"==================\")"
   ]
  },
  {
   "cell_type": "code",
   "execution_count": 3,
   "metadata": {},
   "outputs": [
    {
     "name": "stdout",
     "output_type": "stream",
     "text": [
      "Initial Training set size = 11958\n",
      "Initial Test set size = 2008\n"
     ]
    }
   ],
   "source": [
    "templist = []\n",
    "for tup in zip(X_train, y_train):\n",
    "    if(tup[1]=='8' or tup[1]=='3'):\n",
    "        templist.append(list(tup))\n",
    "    \n",
    "testList = []\n",
    "for tup in zip(X_test, y_test):\n",
    "    if(tup[1]=='8' or tup[1]=='3'):\n",
    "        testList.append(list(tup))\n",
    "    \n",
    "print(\"Initial Training set size = \"+str(len(templist)))\n",
    "print(\"Initial Test set size = \"+str(len(testList)))"
   ]
  },
  {
   "cell_type": "code",
   "execution_count": 9,
   "metadata": {},
   "outputs": [
    {
     "name": "stdout",
     "output_type": "stream",
     "text": [
      "Initial Seed set size = 1195\n",
      "Unlabelled dataset size = 10763\n"
     ]
    }
   ],
   "source": [
    "X_test=[]\n",
    "y_test=[]\n",
    "\n",
    "for tup in testList:\n",
    "\tX_test.append(tup[0])\n",
    "\ty_test.append(tup[1])\n",
    "\n",
    "\n",
    "random.shuffle(templist)\n",
    "\n",
    "seed_size=int(0.1*len(templist))\n",
    "#seed_size=5\n",
    "\n",
    "seed_list=templist[0:seed_size]\n",
    "print(\"Initial Seed set size = \"+str(len(seed_list)))\n",
    " \n",
    "unlabelled_list=templist[seed_size:]\n",
    "print(\"Unlabelled dataset size = \"+str(len(unlabelled_list)))\n"
   ]
  },
  {
   "cell_type": "code",
   "execution_count": 5,
   "metadata": {},
   "outputs": [
    {
     "data": {
      "text/plain": [
       "'3'"
      ]
     },
     "execution_count": 5,
     "metadata": {},
     "output_type": "execute_result"
    }
   ],
   "source": [
    "unlabelled_list[2][1]"
   ]
  },
  {
   "cell_type": "code",
   "execution_count": 6,
   "metadata": {},
   "outputs": [],
   "source": [
    "def random_instance_generate(seed_set, unlabelled_list, batch_size):\n",
    "    random_elements=[]\n",
    "    print(\"Before Sampling Unlabelled Data Size: \"+str(len(unlabelled_list)))\n",
    "    print(\"Before Sampling Seed Data Size: \"+str(len(seed_set)))\n",
    "    random.shuffle(unlabelled_list)\n",
    "    for i in range(batch_size):\n",
    "        rand_elem = random.choice(unlabelled_list)\n",
    "        random_elements.append(rand_elem)\n",
    "    for elem in random_elements:\n",
    "        seed_set.append(elem)\n",
    "        ul=[]\n",
    "    for i in random_elements:\n",
    "        ul.append(list(i[0]))\n",
    "        \n",
    "    new_unlabelled=[]\n",
    "    for elem in unlabelled_list:\n",
    "        if(list(elem[0]) in ul):\n",
    "            continue\n",
    "        new_unlabelled.append(elem)\n",
    "    print(\"After Sampling Unlabelled Data Size : \"+str(len(new_unlabelled)))\n",
    "    print(\"After Sampling Seed Data Size : \"+str(len(seed_set)))\n",
    "    return new_unlabelled, seed_set"
   ]
  },
  {
   "cell_type": "code",
   "execution_count": 7,
   "metadata": {},
   "outputs": [],
   "source": [
    "def train_model(data, X_test, y_test):\n",
    "    print(\"--------------------Start------------------\")\n",
    "    clf = LogisticRegression(C=50. / train_samples, penalty='l1', solver='saga', tol=0.1)\n",
    "    print(\"Training with seed size: \"+str(len(data)))\n",
    "    random.shuffle(data)\n",
    "    X_train=[]\n",
    "    y_train=[]\n",
    "    for i in range(len(data)):\n",
    "        try:\n",
    "            #print(data[i][1])\n",
    "            X_train.append(list(data[i][0]))\n",
    "            y_train.append(data[i][1])\n",
    "        except:\n",
    "            pass\n",
    "        \n",
    "    print(type(X_train[-1]))\n",
    "    clf.fit(X_train, y_train)\n",
    "    print(\"Accuracy on the Test Set is : \"+str(sklearn.metrics.accuracy_score(y_test, clf.predict(X_test))))\n",
    "    #print(\"--------------------End------------------\")\n",
    "    return(clf)\n"
   ]
  },
  {
   "cell_type": "code",
   "execution_count": 8,
   "metadata": {},
   "outputs": [
    {
     "name": "stdout",
     "output_type": "stream",
     "text": [
      "2008\n",
      "--------------------Start------------------\n",
      "Training with seed size: 5\n",
      "<class 'list'>\n",
      "Accuracy on the Test Set is : 0.4960159362549801\n",
      "Seed Set Size in Iteration 0 is :5\n",
      "Before Sampling Unlabelled Data Size: 11953\n",
      "Before Sampling Seed Data Size: 5\n",
      "After Sampling Unlabelled Data Size : 11855\n",
      "After Sampling Seed Data Size : 105\n",
      "--------------------Start------------------\n",
      "Training with seed size: 105\n",
      "<class 'list'>\n",
      "Accuracy on the Test Set is : 0.4960159362549801\n",
      "Seed Set Size in Iteration 1 is :105\n",
      "Before Sampling Unlabelled Data Size: 11855\n",
      "Before Sampling Seed Data Size: 105\n",
      "After Sampling Unlabelled Data Size : 11755\n",
      "After Sampling Seed Data Size : 205\n",
      "--------------------Start------------------\n",
      "Training with seed size: 205\n",
      "<class 'list'>\n",
      "Accuracy on the Test Set is : 0.4960159362549801\n",
      "Seed Set Size in Iteration 2 is :205\n",
      "Before Sampling Unlabelled Data Size: 11755\n",
      "Before Sampling Seed Data Size: 205\n"
     ]
    },
    {
     "ename": "KeyboardInterrupt",
     "evalue": "",
     "output_type": "error",
     "traceback": [
      "\u001b[0;31m-----------------------------------------------------------------------\u001b[0m",
      "\u001b[0;31mKeyboardInterrupt\u001b[0m                     Traceback (most recent call last)",
      "\u001b[0;32m<ipython-input-8-f910dac8501b>\u001b[0m in \u001b[0;36m<module>\u001b[0;34m\u001b[0m\n\u001b[1;32m      6\u001b[0m \u001b[0;32mfor\u001b[0m \u001b[0mi\u001b[0m \u001b[0;32min\u001b[0m \u001b[0mrange\u001b[0m\u001b[0;34m(\u001b[0m\u001b[0mstopping_criteria\u001b[0m\u001b[0;34m)\u001b[0m\u001b[0;34m:\u001b[0m\u001b[0;34m\u001b[0m\u001b[0;34m\u001b[0m\u001b[0m\n\u001b[1;32m      7\u001b[0m     \u001b[0mprint\u001b[0m\u001b[0;34m(\u001b[0m\u001b[0;34m\"Seed Set Size in Iteration \"\u001b[0m \u001b[0;34m+\u001b[0m \u001b[0mstr\u001b[0m\u001b[0;34m(\u001b[0m\u001b[0mi\u001b[0m\u001b[0;34m)\u001b[0m \u001b[0;34m+\u001b[0m\u001b[0;34m\" is :\"\u001b[0m \u001b[0;34m+\u001b[0m \u001b[0mstr\u001b[0m\u001b[0;34m(\u001b[0m\u001b[0mlen\u001b[0m\u001b[0;34m(\u001b[0m\u001b[0mseed_list\u001b[0m\u001b[0;34m)\u001b[0m\u001b[0;34m)\u001b[0m\u001b[0;34m)\u001b[0m\u001b[0;34m\u001b[0m\u001b[0;34m\u001b[0m\u001b[0m\n\u001b[0;32m----> 8\u001b[0;31m     \u001b[0munlabelled_list\u001b[0m\u001b[0;34m,\u001b[0m \u001b[0mseed_list\u001b[0m \u001b[0;34m=\u001b[0m \u001b[0mrandom_instance_generate\u001b[0m\u001b[0;34m(\u001b[0m\u001b[0mseed_list\u001b[0m\u001b[0;34m,\u001b[0m \u001b[0munlabelled_list\u001b[0m\u001b[0;34m,\u001b[0m \u001b[0mbatch_size\u001b[0m\u001b[0;34m)\u001b[0m\u001b[0;34m\u001b[0m\u001b[0;34m\u001b[0m\u001b[0m\n\u001b[0m\u001b[1;32m      9\u001b[0m     \u001b[0mtrain_model\u001b[0m\u001b[0;34m(\u001b[0m\u001b[0mseed_list\u001b[0m\u001b[0;34m,\u001b[0m \u001b[0mX_test\u001b[0m\u001b[0;34m,\u001b[0m \u001b[0my_test\u001b[0m\u001b[0;34m)\u001b[0m\u001b[0;34m\u001b[0m\u001b[0;34m\u001b[0m\u001b[0m\n\u001b[1;32m     10\u001b[0m \u001b[0;34m\u001b[0m\u001b[0m\n",
      "\u001b[0;32m<ipython-input-6-e31fa24580b5>\u001b[0m in \u001b[0;36mrandom_instance_generate\u001b[0;34m(seed_set, unlabelled_list, batch_size)\u001b[0m\n\u001b[1;32m     15\u001b[0m     \u001b[0mnew_unlabelled\u001b[0m\u001b[0;34m=\u001b[0m\u001b[0;34m[\u001b[0m\u001b[0;34m]\u001b[0m\u001b[0;34m\u001b[0m\u001b[0;34m\u001b[0m\u001b[0m\n\u001b[1;32m     16\u001b[0m     \u001b[0;32mfor\u001b[0m \u001b[0melem\u001b[0m \u001b[0;32min\u001b[0m \u001b[0munlabelled_list\u001b[0m\u001b[0;34m:\u001b[0m\u001b[0;34m\u001b[0m\u001b[0;34m\u001b[0m\u001b[0m\n\u001b[0;32m---> 17\u001b[0;31m         \u001b[0;32mif\u001b[0m\u001b[0;34m(\u001b[0m\u001b[0mlist\u001b[0m\u001b[0;34m(\u001b[0m\u001b[0melem\u001b[0m\u001b[0;34m[\u001b[0m\u001b[0;36m0\u001b[0m\u001b[0;34m]\u001b[0m\u001b[0;34m)\u001b[0m \u001b[0;32min\u001b[0m \u001b[0mul\u001b[0m\u001b[0;34m)\u001b[0m\u001b[0;34m:\u001b[0m\u001b[0;34m\u001b[0m\u001b[0;34m\u001b[0m\u001b[0m\n\u001b[0m\u001b[1;32m     18\u001b[0m             \u001b[0;32mcontinue\u001b[0m\u001b[0;34m\u001b[0m\u001b[0;34m\u001b[0m\u001b[0m\n\u001b[1;32m     19\u001b[0m         \u001b[0mnew_unlabelled\u001b[0m\u001b[0;34m.\u001b[0m\u001b[0mappend\u001b[0m\u001b[0;34m(\u001b[0m\u001b[0melem\u001b[0m\u001b[0;34m)\u001b[0m\u001b[0;34m\u001b[0m\u001b[0;34m\u001b[0m\u001b[0m\n",
      "\u001b[0;31mKeyboardInterrupt\u001b[0m: "
     ]
    }
   ],
   "source": [
    "\n",
    "batch_size = 100\n",
    "stopping_criteria = int(len(unlabelled_list)/100)\n",
    "print(len(X_test))\n",
    "train_model(seed_list, X_test, y_test)\n",
    "\n",
    "for i in range(stopping_criteria):\n",
    "    print(\"Seed Set Size in Iteration \" + str(i) +\" is :\" + str(len(seed_list)))\n",
    "    unlabelled_list, seed_list = random_instance_generate(seed_list, unlabelled_list, batch_size)\n",
    "    train_model(seed_list, X_test, y_test)\n",
    "   "
   ]
  },
  {
   "cell_type": "code",
   "execution_count": null,
   "metadata": {},
   "outputs": [],
   "source": []
  }
 ],
 "metadata": {
  "kernelspec": {
   "display_name": "Python 3",
   "language": "python",
   "name": "python3"
  },
  "language_info": {
   "codemirror_mode": {
    "name": "ipython",
    "version": 3
   },
   "file_extension": ".py",
   "mimetype": "text/x-python",
   "name": "python",
   "nbconvert_exporter": "python",
   "pygments_lexer": "ipython3",
   "version": "3.7.6"
  }
 },
 "nbformat": 4,
 "nbformat_minor": 4
}

{
 "cells": [
  {
   "cell_type": "code",
   "execution_count": 1,
   "metadata": {},
   "outputs": [],
   "source": [
    "import time\n",
    "import matplotlib.pyplot as plt\n",
    "import numpy as np\n",
    "from sklearn.datasets import fetch_openml\n",
    "from sklearn.linear_model import LogisticRegression\n",
    "from sklearn.model_selection import train_test_split\n",
    "from sklearn.preprocessing import StandardScaler\n",
    "from sklearn.preprocessing import MinMaxScaler\n",
    "from sklearn.utils import check_random_state\n",
    "import sklearn\n",
    "from sklearn.metrics import roc_auc_score\n",
    "import random\n",
    "random.seed(0)"
   ]
  },
  {
   "cell_type": "code",
   "execution_count": 2,
   "metadata": {},
   "outputs": [],
   "source": [
    "def getMNIST():\n",
    "    t0 = time.time()\n",
    "    train_samples = 60000\n",
    "    # Load data from https://www.openml.org/d/554\n",
    "    X, y = fetch_openml('mnist_784', version=1, return_X_y=True)\n",
    "    X = X.reshape((X.shape[0], -1))\n",
    "    X_train, X_test, y_train, y_test = train_test_split(\n",
    "    X, y, train_size=train_samples, test_size=10000)\n",
    "    scaler = StandardScaler()\n",
    "    #scaler = MinMaxScaler()\n",
    "    X_train = scaler.fit_transform(X_train)\n",
    "    X_test = scaler.transform(X_test)\n",
    "\n",
    "    print(\"==================\")\n",
    "    X_train=list(X_train)\n",
    "    X_test=list(X_test)\n",
    "    print(len(X_train))\n",
    "    print(len(X_test))\n",
    "    print(\"==================\")\n",
    "    \n",
    "    return X_train, y_train, X_test, y_test"
   ]
  },
  {
   "cell_type": "code",
   "execution_count": 3,
   "metadata": {},
   "outputs": [],
   "source": [
    "def make_38_Subset(X_train, y_train, X_test, y_test):\n",
    "    templist = []\n",
    "    for tup in zip(X_train, y_train):\n",
    "        if(tup[1]=='8' or tup[1]=='3'):\n",
    "            templist.append(list(tup))\n",
    "\n",
    "    testList = []\n",
    "    for tup in zip(X_test, y_test):\n",
    "        if(tup[1]=='8' or tup[1]=='3'):\n",
    "            testList.append(list(tup))\n",
    "\n",
    "    print(\"3/8 Training set size = \"+str(len(templist)))\n",
    "    print(\"3/8 Test set size = \"+str(len(testList)))\n",
    "    \n",
    "    X_test=[]\n",
    "    y_test=[]\n",
    "\n",
    "    for tup in testList:\n",
    "        X_test.append(tup[0])\n",
    "        y_test.append(tup[1])\n",
    "\n",
    "\n",
    "    seed_size=int(0.1*len(templist))\n",
    "    seed_list=templist[0:seed_size]\n",
    "    print(\"Initial Seed set size = \"+str(len(seed_list)))\n",
    " \n",
    "    unlabelled_list=templist[seed_size:]\n",
    "    print(\"Unlabelled dataset size = \"+str(len(unlabelled_list)))\n",
    "    \n",
    "    return seed_list, unlabelled_list, X_test, y_test\n"
   ]
  },
  {
   "cell_type": "code",
   "execution_count": 4,
   "metadata": {},
   "outputs": [],
   "source": [
    "def random_instance_generate(seed_set, unlabelled_list, batch_size):\n",
    "    random_elements=[]\n",
    "    print(\"Before Sampling Unlabelled Data Size: \"+str(len(unlabelled_list)))\n",
    "    print(\"Before Sampling Seed Data Size: \"+str(len(seed_set)))\n",
    "    random.shuffle(unlabelled_list)\n",
    "    for i in range(batch_size):\n",
    "        rand_elem = random.choice(unlabelled_list)\n",
    "        random_elements.append(rand_elem)\n",
    "    for elem in random_elements:\n",
    "        seed_set.append(elem)\n",
    "        ul=[]\n",
    "    for i in random_elements:\n",
    "        ul.append(list(i[0]))\n",
    "        \n",
    "    new_unlabelled=[]\n",
    "    for elem in unlabelled_list:\n",
    "        if(list(elem[0]) in ul):\n",
    "            continue\n",
    "        new_unlabelled.append(elem)\n",
    "    print(\"After Sampling Unlabelled Data Size : \"+str(len(new_unlabelled)))\n",
    "    print(\"After Sampling Seed Data Size : \"+str(len(seed_set)))\n",
    "    return new_unlabelled, seed_set"
   ]
  },
  {
   "cell_type": "code",
   "execution_count": 5,
   "metadata": {},
   "outputs": [],
   "source": [
    "import numpy as np\n",
    "import numpy.random as npr\n",
    "\n",
    "def select_random_from_unlabeled(u, batch_size):\n",
    "    selected = set(npr.choice(len(u), batch_size, replace=False)) #these will no longer be unlabeled\n",
    "    modified_u = [] # modified unlabeled\n",
    "    del_s = [] # new points to add to s\n",
    "    \n",
    "    i=0\n",
    "    for x in u:\n",
    "        if i in selected:\n",
    "            del_s.append(x)\n",
    "        else:\n",
    "            modified_u.append(x)\n",
    "            \n",
    "        i=i+1\n",
    "    return del_s, modified_u"
   ]
  },
  {
   "cell_type": "code",
   "execution_count": 6,
   "metadata": {},
   "outputs": [],
   "source": [
    "def train_model(data, X_test, y_test):\n",
    "    print(\"--------------------Start------------------\")\n",
    "    clf = LogisticRegression(C=50. / train_samples, penalty='l2', solver='saga', tol=0.1)\n",
    "    print(\"Training with seed size: \" + str(len(data)))\n",
    "    #random.shuffle(data)\n",
    "    X_train=[]\n",
    "    y_train=[]\n",
    "    for i in range(len(data)):\n",
    "        try:\n",
    "            #print(data[i][1])\n",
    "            X_train.append(list(data[i][0]))\n",
    "            y_train.append(data[i][1])\n",
    "        except:\n",
    "            pass\n",
    "        \n",
    "    clf.fit(X_train, y_train)\n",
    "    print(\"Accuracy on the Test Set is : \"+str(sklearn.metrics.accuracy_score(y_test, clf.predict(X_test))))\n",
    "    print(\"--------------------End------------------\")\n",
    "    return(clf)\n"
   ]
  },
  {
   "cell_type": "code",
   "execution_count": 7,
   "metadata": {},
   "outputs": [
    {
     "name": "stdout",
     "output_type": "stream",
     "text": [
      "Making MNIST data...\n",
      "==================\n",
      "60000\n",
      "10000\n",
      "==================\n"
     ]
    }
   ],
   "source": [
    "print (\"Making MNIST data...\")\n",
    "X_train, y_train, X_test, y_test = getMNIST()"
   ]
  },
  {
   "cell_type": "code",
   "execution_count": 8,
   "metadata": {},
   "outputs": [
    {
     "name": "stdout",
     "output_type": "stream",
     "text": [
      "Getting MNIST 3/8 classification data...\n",
      "3/8 Training set size = 11991\n",
      "3/8 Test set size = 1975\n",
      "Initial Seed set size = 1199\n",
      "Unlabelled dataset size = 10792\n",
      "|S|_0 = 1199, |U|_0 = 10792\n",
      "--------------------Start------------------\n"
     ]
    },
    {
     "ename": "NameError",
     "evalue": "name 'train_samples' is not defined",
     "output_type": "error",
     "traceback": [
      "\u001b[0;31m---------------------------------------------------------------------------\u001b[0m",
      "\u001b[0;31mNameError\u001b[0m                                 Traceback (most recent call last)",
      "\u001b[0;32m<ipython-input-8-6f326c487e9f>\u001b[0m in \u001b[0;36m<module>\u001b[0;34m\u001b[0m\n\u001b[1;32m     11\u001b[0m \u001b[0;34m\u001b[0m\u001b[0m\n\u001b[1;32m     12\u001b[0m     \u001b[0mprint\u001b[0m\u001b[0;34m(\u001b[0m\u001b[0;34m\"|S|_{} = {}, |U|_{} = {}\"\u001b[0m\u001b[0;34m.\u001b[0m\u001b[0mformat\u001b[0m\u001b[0;34m(\u001b[0m\u001b[0mi\u001b[0m\u001b[0;34m,\u001b[0m \u001b[0mlen\u001b[0m\u001b[0;34m(\u001b[0m\u001b[0ms\u001b[0m\u001b[0;34m)\u001b[0m\u001b[0;34m,\u001b[0m \u001b[0mi\u001b[0m\u001b[0;34m,\u001b[0m \u001b[0mlen\u001b[0m\u001b[0;34m(\u001b[0m\u001b[0mu\u001b[0m\u001b[0;34m)\u001b[0m\u001b[0;34m)\u001b[0m\u001b[0;34m)\u001b[0m\u001b[0;34m\u001b[0m\u001b[0;34m\u001b[0m\u001b[0m\n\u001b[0;32m---> 13\u001b[0;31m     \u001b[0mtrain_model\u001b[0m\u001b[0;34m(\u001b[0m\u001b[0ms\u001b[0m\u001b[0;34m,\u001b[0m \u001b[0mX_test\u001b[0m\u001b[0;34m,\u001b[0m \u001b[0my_test\u001b[0m\u001b[0;34m)\u001b[0m\u001b[0;34m\u001b[0m\u001b[0;34m\u001b[0m\u001b[0m\n\u001b[0m\u001b[1;32m     14\u001b[0m \u001b[0;34m\u001b[0m\u001b[0m\n\u001b[1;32m     15\u001b[0m     \u001b[0;31m#unlabelled_list, seed_list = random_instance_generate(seed_list, unlabelled_list, batch_size)\u001b[0m\u001b[0;34m\u001b[0m\u001b[0;34m\u001b[0m\u001b[0;34m\u001b[0m\u001b[0m\n",
      "\u001b[0;32m<ipython-input-6-b4e7faac87f4>\u001b[0m in \u001b[0;36mtrain_model\u001b[0;34m(data, X_test, y_test)\u001b[0m\n\u001b[1;32m      1\u001b[0m \u001b[0;32mdef\u001b[0m \u001b[0mtrain_model\u001b[0m\u001b[0;34m(\u001b[0m\u001b[0mdata\u001b[0m\u001b[0;34m,\u001b[0m \u001b[0mX_test\u001b[0m\u001b[0;34m,\u001b[0m \u001b[0my_test\u001b[0m\u001b[0;34m)\u001b[0m\u001b[0;34m:\u001b[0m\u001b[0;34m\u001b[0m\u001b[0;34m\u001b[0m\u001b[0m\n\u001b[1;32m      2\u001b[0m     \u001b[0mprint\u001b[0m\u001b[0;34m(\u001b[0m\u001b[0;34m\"--------------------Start------------------\"\u001b[0m\u001b[0;34m)\u001b[0m\u001b[0;34m\u001b[0m\u001b[0;34m\u001b[0m\u001b[0m\n\u001b[0;32m----> 3\u001b[0;31m     \u001b[0mclf\u001b[0m \u001b[0;34m=\u001b[0m \u001b[0mLogisticRegression\u001b[0m\u001b[0;34m(\u001b[0m\u001b[0mC\u001b[0m\u001b[0;34m=\u001b[0m\u001b[0;36m50.\u001b[0m \u001b[0;34m/\u001b[0m \u001b[0mtrain_samples\u001b[0m\u001b[0;34m,\u001b[0m \u001b[0mpenalty\u001b[0m\u001b[0;34m=\u001b[0m\u001b[0;34m'l2'\u001b[0m\u001b[0;34m,\u001b[0m \u001b[0msolver\u001b[0m\u001b[0;34m=\u001b[0m\u001b[0;34m'saga'\u001b[0m\u001b[0;34m,\u001b[0m \u001b[0mtol\u001b[0m\u001b[0;34m=\u001b[0m\u001b[0;36m0.1\u001b[0m\u001b[0;34m)\u001b[0m\u001b[0;34m\u001b[0m\u001b[0;34m\u001b[0m\u001b[0m\n\u001b[0m\u001b[1;32m      4\u001b[0m     \u001b[0mprint\u001b[0m\u001b[0;34m(\u001b[0m\u001b[0;34m\"Training with seed size: \"\u001b[0m \u001b[0;34m+\u001b[0m \u001b[0mstr\u001b[0m\u001b[0;34m(\u001b[0m\u001b[0mlen\u001b[0m\u001b[0;34m(\u001b[0m\u001b[0mdata\u001b[0m\u001b[0;34m)\u001b[0m\u001b[0;34m)\u001b[0m\u001b[0;34m)\u001b[0m\u001b[0;34m\u001b[0m\u001b[0;34m\u001b[0m\u001b[0m\n\u001b[1;32m      5\u001b[0m     \u001b[0;31m#random.shuffle(data)\u001b[0m\u001b[0;34m\u001b[0m\u001b[0;34m\u001b[0m\u001b[0;34m\u001b[0m\u001b[0m\n",
      "\u001b[0;31mNameError\u001b[0m: name 'train_samples' is not defined"
     ]
    }
   ],
   "source": [
    "print (\"Getting MNIST 3/8 classification data...\")\n",
    "s, u, X_test, y_test = make_38_Subset(X_train, y_train, X_test, y_test)\n",
    "\n",
    "batch_size = 1000\n",
    "#stopping_criteria = int(len(unlabelled_list)/100)\n",
    "#print(len(X_test))\n",
    "\n",
    "niters = 10\n",
    "\n",
    "for i in range(niters):\n",
    "    \n",
    "    print(\"|S|_{} = {}, |U|_{} = {}\".format(i, len(s), i, len(u)))\n",
    "    train_model(s, X_test, y_test)\n",
    "    \n",
    "    #unlabelled_list, seed_list = random_instance_generate(seed_list, unlabelled_list, batch_size)    \n",
    "    \n",
    "    del_s, u = select_random_from_unlabeled(u, batch_size)\n",
    "    s = s + del_s\n",
    "    "
   ]
  },
  {
   "cell_type": "code",
   "execution_count": null,
   "metadata": {},
   "outputs": [],
   "source": []
  }
 ],
 "metadata": {
  "kernelspec": {
   "display_name": "Python 3",
   "language": "python",
   "name": "python3"
  },
  "language_info": {
   "codemirror_mode": {
    "name": "ipython",
    "version": 3
   },
   "file_extension": ".py",
   "mimetype": "text/x-python",
   "name": "python",
   "nbconvert_exporter": "python",
   "pygments_lexer": "ipython3",
   "version": "3.6.10"
  }
 },
 "nbformat": 4,
 "nbformat_minor": 4
}

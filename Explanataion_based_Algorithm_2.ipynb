{
 "cells": [
  {
   "cell_type": "code",
   "execution_count": 1,
   "metadata": {},
   "outputs": [],
   "source": [
    "import time\n",
    "import matplotlib.pyplot as plt\n",
    "import numpy as np\n",
    "from sklearn.datasets import fetch_openml\n",
    "from sklearn.linear_model import LogisticRegression\n",
    "from sklearn.model_selection import train_test_split\n",
    "from sklearn.preprocessing import StandardScaler\n",
    "from sklearn.utils import check_random_state\n",
    "import sklearn\n",
    "from sklearn.metrics import roc_auc_score\n",
    "import random\n",
    "random.seed(0)"
   ]
  },
  {
   "cell_type": "code",
   "execution_count": 2,
   "metadata": {},
   "outputs": [
    {
     "name": "stdout",
     "output_type": "stream",
     "text": [
      "==================\n",
      "60000\n",
      "10000\n",
      "==================\n"
     ]
    }
   ],
   "source": [
    "t0 = time.time()\n",
    "train_samples = 60000\n",
    "# Load data from https://www.openml.org/d/554\n",
    "X, y = fetch_openml('mnist_784', version=1, return_X_y=True)\n",
    "X = X.reshape((X.shape[0], -1))\n",
    "X_train, X_test, y_train, y_test = train_test_split(\n",
    "X, y, train_size=train_samples, test_size=10000)\n",
    "scaler = StandardScaler()\n",
    "X_train = scaler.fit_transform(X_train)\n",
    "X_test = scaler.transform(X_test)\n",
    "\n",
    "print(\"==================\")\n",
    "X_train=list(X_train)\n",
    "X_test=list(X_test)\n",
    "print(len(X_train))\n",
    "print(len(X_test))\n",
    "print(\"==================\")"
   ]
  },
  {
   "cell_type": "code",
   "execution_count": 25,
   "metadata": {},
   "outputs": [
    {
     "name": "stdout",
     "output_type": "stream",
     "text": [
      "Initial Training set size = 11885\n",
      "Initial Test set size = 2081\n"
     ]
    }
   ],
   "source": [
    "templist = []\n",
    "for tup in zip(X_train, y_train):\n",
    "    if(tup[1]=='8' or tup[1]=='3'):\n",
    "        templist.append(list(tup))\n",
    "    \n",
    "testList = []\n",
    "for tup in zip(X_test, y_test):\n",
    "    if(tup[1]=='8' or tup[1]=='3'):\n",
    "        testList.append(list(tup))\n",
    "    \n",
    "print(\"Initial Training set size = \"+str(len(templist)))\n",
    "print(\"Initial Test set size = \"+str(len(testList)))"
   ]
  },
  {
   "cell_type": "code",
   "execution_count": 41,
   "metadata": {},
   "outputs": [
    {
     "name": "stdout",
     "output_type": "stream",
     "text": [
      "Initial Seed set size = 5\n",
      "Unlabelled dataset size = 15\n"
     ]
    }
   ],
   "source": [
    "X_test=[]\n",
    "y_test=[]\n",
    "\n",
    "for tup in testList:\n",
    "\tX_test.append(tup[0])\n",
    "\ty_test.append(tup[1])\n",
    "\n",
    "\n",
    "random.shuffle(templist)\n",
    "\n",
    "#seed_size=int(0.1*len(templist))\n",
    "seed_size=5\n",
    "\n",
    "seed_list=templist[0:seed_size]\n",
    "print(\"Initial Seed set size = \"+str(len(seed_list)))\n",
    " \n",
    "unlabelled_list=templist[seed_size:20]\n",
    "print(\"Unlabelled dataset size = \"+str(len(unlabelled_list)))"
   ]
  },
  {
   "cell_type": "code",
   "execution_count": 42,
   "metadata": {},
   "outputs": [],
   "source": [
    "import numpy as np\n",
    "import lime\n",
    "import lime.lime_tabular\n",
    "\n",
    "\n",
    "def explanation_generation_based_and_train_test(seed_set, unlabelled_list, batch_size):\n",
    "    print(\"Before Sampling Unlabelled Data Size: \"+str(len(unlabelled_list)))\n",
    "    print(\"Before Sampling Seed Data Size: \"+str(len(seed_set)))\n",
    "    \n",
    "    feature_names=[]\n",
    "\n",
    "    for i in range(784):\n",
    "        feature='feature_'+str(i)\n",
    "        feature_names.append(feature)\n",
    "    \n",
    "\n",
    "    class_names=[]\n",
    "    classes=['3','8']\n",
    "\n",
    "    for i in classes:\n",
    "        class_1='class_'+str(i)\n",
    "        class_names.append(class_1)\n",
    "        \n",
    "    clf = LogisticRegression(C=50. / train_samples, penalty='l1', solver='saga', tol=0.1)\n",
    "    \n",
    "    seed_X=[]\n",
    "    seed_y=[]\n",
    "\n",
    "    for tup in seed_list:\n",
    "        seed_X.append(list(tup[0]))\n",
    "        seed_y.append(list(tup[1]))\n",
    "        \n",
    "    test_X=[]\n",
    "    test_y=[]\n",
    "\n",
    "    for tup in testList:\n",
    "        test_X.append(list(tup[0]))\n",
    "        test_y.append(list(tup[1]))\n",
    "    \n",
    "    clf.fit(seed_X, seed_y)\n",
    "    print(\"Accuracy on the Test Set is : \"+str(sklearn.metrics.accuracy_score(test_y, clf.predict(test_X))))\n",
    "    explainer = lime.lime_tabular.LimeTabularExplainer(np.array(seed_X), feature_names=feature_names, class_names=class_names, discretize_continuous=False)\n",
    "    \n",
    "    total_np_array=[]\n",
    "    num_features=784\n",
    "    for item in seed_list:\n",
    "        #print(item)\n",
    "        exp = explainer.explain_instance(np.array(item[0]), clf.predict_proba, num_features=num_features)\n",
    "        vectors = np.empty([1, num_features])\n",
    "        for elem in list(exp.as_list()):\n",
    "            np.append(vectors, elem[1], axis=None)\n",
    "        total_np_array.append(vectors[0])\n",
    "        \n",
    "    \n",
    "    seed_mean = np.mean(np.array(total_np_array), axis=0)\n",
    "    \n",
    "    ulabelled_X=[]\n",
    "    ulabelled_y=[]\n",
    "\n",
    "    for tup in unlabelled_list:\n",
    "        ulabelled_X.append(list(tup[0]))\n",
    "        ulabelled_y.append(list(tup[1]))\n",
    "        \n",
    "    import random\n",
    "    random_batch=[]\n",
    "    for i in range(batch_size):\n",
    "        elem=random.choice(unlabelled_list)\n",
    "        random_batch.append(elem)\n",
    "        \n",
    "    #print(random_batch[1][1])\n",
    "    \n",
    "    new_x0=[]\n",
    "    new_y0=[]\n",
    "    \n",
    "    for tup in random_batch:\n",
    "        new_x0.append(list(tup[0]))\n",
    "        new_y0.append(list('3'))\n",
    "    \n",
    "    #print(new_y0)\n",
    "    \n",
    "    new_x1=[]\n",
    "    new_y1=[]\n",
    "    \n",
    "    for tup in random_batch:\n",
    "        new_x1.append(list(tup[0]))\n",
    "        new_y1.append(list('8'))\n",
    "    \n",
    "    #print(new_y0[0], new_y1[0])\n",
    "    \n",
    "    ## Preparing Seed X0\n",
    "    \n",
    "    seed_x0=[]\n",
    "    seed_y0=[]\n",
    "    \n",
    "    for tup in seed_list:\n",
    "        seed_x0.append(list(tup[0]))\n",
    "        seed_y0.append(list(tup[1]))\n",
    "    \n",
    "    #print(seed_y0[-1])\n",
    "    \n",
    "    \n",
    "    for x in new_x0:\n",
    "        seed_x0.append(x)\n",
    "        \n",
    "    for y in new_y0:\n",
    "        seed_y0.append(y)\n",
    "        \n",
    "    print(seed_y0)\n",
    "    \n",
    "    \n",
    "    ## Preparing Seed X1\n",
    "    \n",
    "    seed_x1=[]\n",
    "    seed_y1=[]\n",
    "    \n",
    "    for tup in seed_list:\n",
    "        seed_x1.append(list(tup[0]))\n",
    "        seed_y1.append(list(tup[1]))\n",
    "    \n",
    "    for x in new_x1:\n",
    "        seed_x1.append(x)\n",
    "        \n",
    "    for y in new_y1:\n",
    "        seed_y1.append(y)\n",
    "        \n",
    "        \n",
    "        \n",
    "    print(seed_y1)\n",
    "    \n",
    "    clf0 = LogisticRegression(C=50. / train_samples, penalty='l1', solver='saga', tol=0.1)\n",
    "    clf0.fit(seed_x0, seed_y0)\n",
    "    \n",
    "    clf1 = LogisticRegression(C=50. / train_samples, penalty='l1', solver='saga', tol=0.1)\n",
    "    clf1.fit(seed_x1, seed_y1)\n",
    "    \n",
    "    explainer0 = lime.lime_tabular.LimeTabularExplainer(np.array(seed_x0), feature_names=feature_names, class_names=class_names, discretize_continuous=False)\n",
    "    explainer1 = lime.lime_tabular.LimeTabularExplainer(np.array(seed_x1), feature_names=feature_names, class_names=class_names, discretize_continuous=False)\n",
    "    \n",
    "    # Mean for LIME(M(S0),x)\n",
    "    \n",
    "    total_np_array_0=[]\n",
    "    num_features=784\n",
    "    for item in seed_x0:\n",
    "        exp = explainer0.explain_instance(np.array(item), clf.predict_proba, num_features=num_features)\n",
    "        vectors = np.empty([1, num_features])\n",
    "        for elem in list(exp.as_list()):\n",
    "            np.append(vectors, elem[1], axis=None)\n",
    "        total_np_array_0.append(vectors[0])\n",
    "        \n",
    "    \n",
    "    seed_mean0 = np.mean(np.array(total_np_array_0), axis=0)\n",
    "    \n",
    "    \n",
    "    # Mean for LIME(M(S1),x)\n",
    "    \n",
    "    total_np_array_1=[]\n",
    "    num_features=784\n",
    "    for item in seed_x1:\n",
    "        exp = explainer0.explain_instance(np.array(item), clf.predict_proba, num_features=num_features)\n",
    "        vectors = np.empty([1, num_features])\n",
    "        for elem in list(exp.as_list()):\n",
    "            np.append(vectors, elem[1], axis=None)\n",
    "        total_np_array_1.append(vectors[0])\n",
    "        \n",
    "    \n",
    "    seed_mean1 = np.mean(np.array(total_np_array_1), axis=0)\n",
    "    \n",
    "    # Computing the maximum of del[LIME(M(S0),x)] and del[LIME(M(S1),x)]\n",
    "    \n",
    "    delMO = np.subtract(np.array(seed_mean0), np.array(seed_mean))\n",
    "    delM1 = np.subtract(np.array(seed_mean1), np.array(seed_mean))\n",
    "    \n",
    "    \n",
    "    if(np.mean(delMO) > np.mean(delM1)):\n",
    "        final_seed_x=seed_x0\n",
    "        final_seed_y=seed_y0\n",
    "    else:\n",
    "        final_seed_x=seed_x1\n",
    "        final_seed_y=seed_y1\n",
    "        \n",
    "    #print(unlabelled_list.index(final_seed_x))\n",
    "    final_seed=[]\n",
    "    \n",
    "    \n",
    "    print(len(ulabelled_X))\n",
    "    for elem in zip(final_seed_x, final_seed_y):\n",
    "        final_seed.append(elem)\n",
    "        \n",
    "        i=0\n",
    "        index=[]\n",
    "        \n",
    "        for index, item in enumerate(ulabelled_X):\n",
    "            if(item==elem[0]):\n",
    "                print(\"Found at index\"+str(index))\n",
    "                del ulabelled_X[index]\n",
    "                del ulabelled_y[index]\n",
    "                \n",
    "    \n",
    "    print(len(ulabelled_X))\n",
    "    \n",
    "    new_unlabelled_list = []\n",
    "    for elem in zip(ulabelled_X, ulabelled_y):\n",
    "        new_unlabelled_list.append(elem)\n",
    "        \n",
    "    return final_seed, new_unlabelled_list\n",
    "    \n",
    "    '''\n",
    "    \n",
    "    explainer = lime.lime_tabular.LimeTabularExplainer(np.array(ulabelled_X), feature_names=feature_names, class_names=class_names, discretize_continuous=False)\n",
    "    \n",
    "    sums=[]\n",
    "    for item in unlabelled_list:\n",
    "        exp = explainer.explain_instance(item[0], clf.predict_proba, num_features=num_features)\n",
    "        vectors = np.empty([1, num_features])\n",
    "        for elem in list(exp.as_list()):\n",
    "            np.append(vectors, elem[1], axis=None)\n",
    "        np_vector=vectors[0]\n",
    "        sums.append(np.sum(np.subtract(seed_mean, np_vector)))\n",
    "        \n",
    "    \n",
    "    \n",
    "    print(\"Max= \"+str(max(sums)))\n",
    "    print(\"Index= \"+str(sums.index(max(sums))))\n",
    "    \n",
    "    print(\"Unlabelled List Before: \"+str(len(unlabelled_list)))\n",
    "    index = sums.index(max(sums))\n",
    "    \n",
    "    \n",
    "    print(\"Seed List Before: \"+str(len(seed_list)))\n",
    "    seed_list.append(unlabelled_list[index])\n",
    "    print(\"Seed List After: \"+str(len(seed_list)))\n",
    "    \n",
    "    del unlabelled_list[index]\n",
    "    print(\"Unlabelled List After: \"+str(len(unlabelled_list)))'''"
   ]
  },
  {
   "cell_type": "code",
   "execution_count": 43,
   "metadata": {},
   "outputs": [
    {
     "name": "stdout",
     "output_type": "stream",
     "text": [
      "Before Sampling Unlabelled Data Size: 15\n",
      "Before Sampling Seed Data Size: 5\n",
      "Accuracy on the Test Set is : 0.4848630466122057\n"
     ]
    },
    {
     "name": "stderr",
     "output_type": "stream",
     "text": [
      "/home/ishani/anaconda3/envs/fair/lib/python3.7/site-packages/sklearn/utils/validation.py:760: DataConversionWarning: A column-vector y was passed when a 1d array was expected. Please change the shape of y to (n_samples, ), for example using ravel().\n",
      "  y = column_or_1d(y, warn=True)\n"
     ]
    },
    {
     "name": "stdout",
     "output_type": "stream",
     "text": [
      "[['3'], ['8'], ['8'], ['3'], ['3'], ['3']]\n",
      "[['3'], ['8'], ['8'], ['3'], ['3'], ['8']]\n"
     ]
    },
    {
     "name": "stderr",
     "output_type": "stream",
     "text": [
      "/home/ishani/anaconda3/envs/fair/lib/python3.7/site-packages/sklearn/utils/validation.py:760: DataConversionWarning: A column-vector y was passed when a 1d array was expected. Please change the shape of y to (n_samples, ), for example using ravel().\n",
      "  y = column_or_1d(y, warn=True)\n",
      "/home/ishani/anaconda3/envs/fair/lib/python3.7/site-packages/sklearn/utils/validation.py:760: DataConversionWarning: A column-vector y was passed when a 1d array was expected. Please change the shape of y to (n_samples, ), for example using ravel().\n",
      "  y = column_or_1d(y, warn=True)\n"
     ]
    },
    {
     "name": "stdout",
     "output_type": "stream",
     "text": [
      "15\n",
      "Found at index5\n",
      "14\n",
      "Before Sampling Unlabelled Data Size: 14\n",
      "Before Sampling Seed Data Size: 6\n",
      "Accuracy on the Test Set is : 0.4848630466122057\n"
     ]
    },
    {
     "name": "stderr",
     "output_type": "stream",
     "text": [
      "/home/ishani/anaconda3/envs/fair/lib/python3.7/site-packages/sklearn/utils/validation.py:760: DataConversionWarning: A column-vector y was passed when a 1d array was expected. Please change the shape of y to (n_samples, ), for example using ravel().\n",
      "  y = column_or_1d(y, warn=True)\n"
     ]
    },
    {
     "name": "stdout",
     "output_type": "stream",
     "text": [
      "[['3'], ['8'], ['8'], ['3'], ['3'], ['8'], ['3']]\n",
      "[['3'], ['8'], ['8'], ['3'], ['3'], ['8'], ['8']]\n"
     ]
    },
    {
     "name": "stderr",
     "output_type": "stream",
     "text": [
      "/home/ishani/anaconda3/envs/fair/lib/python3.7/site-packages/sklearn/utils/validation.py:760: DataConversionWarning: A column-vector y was passed when a 1d array was expected. Please change the shape of y to (n_samples, ), for example using ravel().\n",
      "  y = column_or_1d(y, warn=True)\n",
      "/home/ishani/anaconda3/envs/fair/lib/python3.7/site-packages/sklearn/utils/validation.py:760: DataConversionWarning: A column-vector y was passed when a 1d array was expected. Please change the shape of y to (n_samples, ), for example using ravel().\n",
      "  y = column_or_1d(y, warn=True)\n"
     ]
    },
    {
     "name": "stdout",
     "output_type": "stream",
     "text": [
      "14\n",
      "Found at index6\n",
      "13\n",
      "Before Sampling Unlabelled Data Size: 13\n",
      "Before Sampling Seed Data Size: 7\n",
      "Accuracy on the Test Set is : 0.4848630466122057\n"
     ]
    },
    {
     "name": "stderr",
     "output_type": "stream",
     "text": [
      "/home/ishani/anaconda3/envs/fair/lib/python3.7/site-packages/sklearn/utils/validation.py:760: DataConversionWarning: A column-vector y was passed when a 1d array was expected. Please change the shape of y to (n_samples, ), for example using ravel().\n",
      "  y = column_or_1d(y, warn=True)\n"
     ]
    },
    {
     "name": "stdout",
     "output_type": "stream",
     "text": [
      "[['3'], ['8'], ['8'], ['3'], ['3'], ['8'], ['3'], ['3']]\n",
      "[['3'], ['8'], ['8'], ['3'], ['3'], ['8'], ['3'], ['8']]\n"
     ]
    },
    {
     "name": "stderr",
     "output_type": "stream",
     "text": [
      "/home/ishani/anaconda3/envs/fair/lib/python3.7/site-packages/sklearn/utils/validation.py:760: DataConversionWarning: A column-vector y was passed when a 1d array was expected. Please change the shape of y to (n_samples, ), for example using ravel().\n",
      "  y = column_or_1d(y, warn=True)\n",
      "/home/ishani/anaconda3/envs/fair/lib/python3.7/site-packages/sklearn/utils/validation.py:760: DataConversionWarning: A column-vector y was passed when a 1d array was expected. Please change the shape of y to (n_samples, ), for example using ravel().\n",
      "  y = column_or_1d(y, warn=True)\n"
     ]
    },
    {
     "name": "stdout",
     "output_type": "stream",
     "text": [
      "13\n",
      "Found at index3\n",
      "12\n",
      "Before Sampling Unlabelled Data Size: 12\n",
      "Before Sampling Seed Data Size: 8\n",
      "Accuracy on the Test Set is : 0.5151369533877943\n"
     ]
    },
    {
     "name": "stderr",
     "output_type": "stream",
     "text": [
      "/home/ishani/anaconda3/envs/fair/lib/python3.7/site-packages/sklearn/utils/validation.py:760: DataConversionWarning: A column-vector y was passed when a 1d array was expected. Please change the shape of y to (n_samples, ), for example using ravel().\n",
      "  y = column_or_1d(y, warn=True)\n"
     ]
    },
    {
     "name": "stdout",
     "output_type": "stream",
     "text": [
      "[['3'], ['8'], ['8'], ['3'], ['3'], ['8'], ['3'], ['8'], ['3']]\n",
      "[['3'], ['8'], ['8'], ['3'], ['3'], ['8'], ['3'], ['8'], ['8']]\n"
     ]
    },
    {
     "name": "stderr",
     "output_type": "stream",
     "text": [
      "/home/ishani/anaconda3/envs/fair/lib/python3.7/site-packages/sklearn/utils/validation.py:760: DataConversionWarning: A column-vector y was passed when a 1d array was expected. Please change the shape of y to (n_samples, ), for example using ravel().\n",
      "  y = column_or_1d(y, warn=True)\n",
      "/home/ishani/anaconda3/envs/fair/lib/python3.7/site-packages/sklearn/utils/validation.py:760: DataConversionWarning: A column-vector y was passed when a 1d array was expected. Please change the shape of y to (n_samples, ), for example using ravel().\n",
      "  y = column_or_1d(y, warn=True)\n"
     ]
    },
    {
     "name": "stdout",
     "output_type": "stream",
     "text": [
      "12\n",
      "Found at index7\n",
      "11\n",
      "Before Sampling Unlabelled Data Size: 11\n",
      "Before Sampling Seed Data Size: 9\n",
      "Accuracy on the Test Set is : 0.5151369533877943\n"
     ]
    },
    {
     "name": "stderr",
     "output_type": "stream",
     "text": [
      "/home/ishani/anaconda3/envs/fair/lib/python3.7/site-packages/sklearn/utils/validation.py:760: DataConversionWarning: A column-vector y was passed when a 1d array was expected. Please change the shape of y to (n_samples, ), for example using ravel().\n",
      "  y = column_or_1d(y, warn=True)\n"
     ]
    },
    {
     "name": "stdout",
     "output_type": "stream",
     "text": [
      "[['3'], ['8'], ['8'], ['3'], ['3'], ['8'], ['3'], ['8'], ['3'], ['3']]\n",
      "[['3'], ['8'], ['8'], ['3'], ['3'], ['8'], ['3'], ['8'], ['3'], ['8']]\n"
     ]
    },
    {
     "name": "stderr",
     "output_type": "stream",
     "text": [
      "/home/ishani/anaconda3/envs/fair/lib/python3.7/site-packages/sklearn/utils/validation.py:760: DataConversionWarning: A column-vector y was passed when a 1d array was expected. Please change the shape of y to (n_samples, ), for example using ravel().\n",
      "  y = column_or_1d(y, warn=True)\n",
      "/home/ishani/anaconda3/envs/fair/lib/python3.7/site-packages/sklearn/utils/validation.py:760: DataConversionWarning: A column-vector y was passed when a 1d array was expected. Please change the shape of y to (n_samples, ), for example using ravel().\n",
      "  y = column_or_1d(y, warn=True)\n"
     ]
    },
    {
     "name": "stdout",
     "output_type": "stream",
     "text": [
      "11\n",
      "Found at index5\n",
      "10\n"
     ]
    }
   ],
   "source": [
    "batch_size=1\n",
    "for i in range(5):\n",
    "    seed_list, unlabelled_list = explanation_generation_based_and_train_test(seed_list, unlabelled_list, batch_size)"
   ]
  },
  {
   "cell_type": "code",
   "execution_count": null,
   "metadata": {},
   "outputs": [],
   "source": []
  },
  {
   "cell_type": "code",
   "execution_count": null,
   "metadata": {},
   "outputs": [],
   "source": []
  }
 ],
 "metadata": {
  "kernelspec": {
   "display_name": "Python 3",
   "language": "python",
   "name": "python3"
  },
  "language_info": {
   "codemirror_mode": {
    "name": "ipython",
    "version": 3
   },
   "file_extension": ".py",
   "mimetype": "text/x-python",
   "name": "python",
   "nbconvert_exporter": "python",
   "pygments_lexer": "ipython3",
   "version": "3.7.6"
  }
 },
 "nbformat": 4,
 "nbformat_minor": 4
}

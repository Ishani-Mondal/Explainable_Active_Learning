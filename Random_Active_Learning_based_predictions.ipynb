{
 "cells": [
  {
   "cell_type": "code",
   "execution_count": 1,
   "metadata": {},
   "outputs": [],
   "source": [
    "import time\n",
    "import matplotlib.pyplot as plt\n",
    "import numpy as np\n",
    "from sklearn.datasets import fetch_openml\n",
    "from sklearn.linear_model import LogisticRegression\n",
    "from sklearn.model_selection import train_test_split\n",
    "from sklearn.preprocessing import StandardScaler\n",
    "from sklearn.utils import check_random_state\n",
    "import sklearn\n",
    "from sklearn.metrics import roc_auc_score\n",
    "import random\n",
    "random.seed(0)"
   ]
  },
  {
   "cell_type": "code",
   "execution_count": 3,
   "metadata": {},
   "outputs": [
    {
     "name": "stdout",
     "output_type": "stream",
     "text": [
      "==================\n",
      "60000\n",
      "10000\n",
      "==================\n"
     ]
    }
   ],
   "source": [
    "t0 = time.time()\n",
    "train_samples = 60000\n",
    "# Load data from https://www.openml.org/d/554\n",
    "X, y = fetch_openml('mnist_784', version=1, return_X_y=True)\n",
    "X = X.reshape((X.shape[0], -1))\n",
    "X_train, X_test, y_train, y_test = train_test_split(\n",
    "X, y, train_size=train_samples, test_size=10000)\n",
    "scaler = StandardScaler()\n",
    "X_train = scaler.fit_transform(X_train)\n",
    "X_test = scaler.transform(X_test)\n",
    "\n",
    "print(\"==================\")\n",
    "X_train=list(X_train)\n",
    "X_test=list(X_test)\n",
    "print(len(X_train))\n",
    "print(len(X_test))\n",
    "print(\"==================\")"
   ]
  },
  {
   "cell_type": "code",
   "execution_count": 4,
   "metadata": {},
   "outputs": [
    {
     "name": "stdout",
     "output_type": "stream",
     "text": [
      "Initial Training set size = 11992\n",
      "Initial Test set size = 1974\n"
     ]
    }
   ],
   "source": [
    "templist = []\n",
    "for tup in zip(X_train, y_train):\n",
    "    if(tup[1]=='8' or tup[1]=='3'):\n",
    "        templist.append(list(tup))\n",
    "    \n",
    "testList = []\n",
    "for tup in zip(X_test, y_test):\n",
    "    if(tup[1]=='8' or tup[1]=='3'):\n",
    "        testList.append(list(tup))\n",
    "    \n",
    "print(\"Initial Training set size = \"+str(len(templist)))\n",
    "print(\"Initial Test set size = \"+str(len(testList)))"
   ]
  },
  {
   "cell_type": "code",
   "execution_count": 5,
   "metadata": {},
   "outputs": [
    {
     "name": "stdout",
     "output_type": "stream",
     "text": [
      "Initial Seed set size = 1199\n",
      "Unlabelled dataset size = 10793\n"
     ]
    }
   ],
   "source": [
    "X_test=[]\n",
    "y_test=[]\n",
    "\n",
    "for tup in testList:\n",
    "\tX_test.append(tup[0])\n",
    "\ty_test.append(tup[1])\n",
    "\n",
    "\n",
    "random.shuffle(templist)\n",
    "\n",
    "seed_size=int(0.1*len(templist))\n",
    "#seed_size=5\n",
    "\n",
    "seed_list=templist[0:seed_size]\n",
    "print(\"Initial Seed set size = \"+str(len(seed_list)))\n",
    " \n",
    "unlabelled_list=templist[seed_size:]\n",
    "print(\"Unlabelled dataset size = \"+str(len(unlabelled_list)))\n"
   ]
  },
  {
   "cell_type": "code",
   "execution_count": 10,
   "metadata": {},
   "outputs": [
    {
     "data": {
      "text/plain": [
       "'3'"
      ]
     },
     "execution_count": 10,
     "metadata": {},
     "output_type": "execute_result"
    }
   ],
   "source": [
    "unlabelled_list[5][1]"
   ]
  },
  {
   "cell_type": "code",
   "execution_count": 11,
   "metadata": {},
   "outputs": [],
   "source": [
    "def random_instance_generate(seed_set, unlabelled_list, batch_size):\n",
    "    random_elements=[]\n",
    "    print(\"Before Sampling Unlabelled Data Size: \"+str(len(unlabelled_list)))\n",
    "    print(\"Before Sampling Seed Data Size: \"+str(len(seed_set)))\n",
    "    random.shuffle(unlabelled_list)\n",
    "    for i in range(batch_size):\n",
    "        rand_elem = random.choice(unlabelled_list)\n",
    "        random_elements.append(rand_elem)\n",
    "    for elem in random_elements:\n",
    "        seed_set.append(elem)\n",
    "        ul=[]\n",
    "    for i in random_elements:\n",
    "        ul.append(list(i[0]))\n",
    "        \n",
    "    new_unlabelled=[]\n",
    "    for elem in unlabelled_list:\n",
    "        if(list(elem[0]) in ul):\n",
    "            continue\n",
    "        new_unlabelled.append(elem)\n",
    "    print(\"After Sampling Unlabelled Data Size : \"+str(len(new_unlabelled)))\n",
    "    print(\"After Sampling Seed Data Size : \"+str(len(seed_set)))\n",
    "    return new_unlabelled, seed_set"
   ]
  },
  {
   "cell_type": "code",
   "execution_count": 21,
   "metadata": {},
   "outputs": [],
   "source": [
    "import numpy as np\n",
    "import numpy.random as npr\n",
    "\n",
    "def select_random_from_unlabeled(unlabelled_list, batch_size):\n",
    "    selected = set(npr.choice(len(unlabelled_list), batch_size, replace=False))\n",
    "    new_unlabeled = []\n",
    "    \n",
    "    i=0\n",
    "    for x in unlabelled_list:\n",
    "        if not i in selected:\n",
    "            new_unlabeled.append(x)\n",
    "        i=i+1\n",
    "    return new_unlabeled"
   ]
  },
  {
   "cell_type": "code",
   "execution_count": 22,
   "metadata": {},
   "outputs": [],
   "source": [
    "def train_model(data, X_test, y_test):\n",
    "    print(\"--------------------Start------------------\")\n",
    "    clf = LogisticRegression(C=50. / train_samples, penalty='l2', solver='saga', tol=0.1)\n",
    "    print(\"Training with seed size: \"+str(len(data)))\n",
    "    random.shuffle(data)\n",
    "    X_train=[]\n",
    "    y_train=[]\n",
    "    for i in range(len(data)):\n",
    "        try:\n",
    "            #print(data[i][1])\n",
    "            X_train.append(list(data[i][0]))\n",
    "            y_train.append(data[i][1])\n",
    "        except:\n",
    "            pass\n",
    "        \n",
    "    print(type(X_train[-1]))\n",
    "    clf.fit(X_train, y_train)\n",
    "    print(\"Accuracy on the Test Set is : \"+str(sklearn.metrics.accuracy_score(y_test, clf.predict(X_test))))\n",
    "    #print(\"--------------------End------------------\")\n",
    "    return(clf)\n"
   ]
  },
  {
   "cell_type": "code",
   "execution_count": 23,
   "metadata": {},
   "outputs": [
    {
     "name": "stdout",
     "output_type": "stream",
     "text": [
      "1974\n",
      "--------------------Start------------------\n",
      "Training with seed size: 8599\n",
      "<class 'list'>\n",
      "Accuracy on the Test Set is : 0.9432624113475178\n",
      "Seed Set Size in Iteration 0 is :8599\n",
      "--------------------Start------------------\n",
      "Training with seed size: 11416\n",
      "<class 'list'>\n",
      "Accuracy on the Test Set is : 0.9468085106382979\n",
      "Seed Set Size in Iteration 1 is :11416\n",
      "--------------------Start------------------\n",
      "Training with seed size: 13233\n",
      "<class 'list'>\n",
      "Accuracy on the Test Set is : 0.9478216818642351\n"
     ]
    }
   ],
   "source": [
    "\n",
    "batch_size = 1000\n",
    "#stopping_criteria = int(len(unlabelled_list)/100)\n",
    "print(len(X_test))\n",
    "train_model(seed_list, X_test, y_test)\n",
    "\n",
    "niters = 2\n",
    "\n",
    "for i in range(niters):\n",
    "    print(\"Seed Set Size in Iteration \" + str(i) +\" is :\" + str(len(seed_list)))\n",
    "    #unlabelled_list, seed_list = random_instance_generate(seed_list, unlabelled_list, batch_size)    \n",
    "    unlabelled_list = select_random_from_unlabeled(unlabelled_list, batch_size)\n",
    "    seed_list = seed_list + unlabelled_list\n",
    "    \n",
    "    train_model(seed_list, X_test, y_test)\n",
    "   "
   ]
  },
  {
   "cell_type": "code",
   "execution_count": null,
   "metadata": {},
   "outputs": [],
   "source": []
  }
 ],
 "metadata": {
  "kernelspec": {
   "display_name": "Python 3",
   "language": "python",
   "name": "python3"
  },
  "language_info": {
   "codemirror_mode": {
    "name": "ipython",
    "version": 3
   },
   "file_extension": ".py",
   "mimetype": "text/x-python",
   "name": "python",
   "nbconvert_exporter": "python",
   "pygments_lexer": "ipython3",
   "version": "3.6.10"
  }
 },
 "nbformat": 4,
 "nbformat_minor": 4
}
